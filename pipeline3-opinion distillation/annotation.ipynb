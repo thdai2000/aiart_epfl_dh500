{
 "cells": [
  {
   "cell_type": "code",
   "execution_count": 1,
   "id": "initial_id",
   "metadata": {
    "ExecuteTime": {
     "end_time": "2024-06-03T11:09:49.978526900Z",
     "start_time": "2024-06-03T11:09:47.767165400Z"
    }
   },
   "outputs": [],
   "source": [
    "from IPython.display import clear_output\n",
    "import jsonlines\n",
    "\n",
    "name = 'mengjie'\n",
    "\n",
    "# Read dataset\n",
    "with jsonlines.open(\"./to_annotate.jsonl\", \"r\") as reader:\n",
    "    samples = [sample for sample in reader.iter()]\n",
    "\n",
    "# Note that I swapped them because it seems more natural for inputting\n",
    "id_to_label = {\n",
    "    0: 'Pessimistic',\n",
    "    1: 'Optimistic'\n",
    "}\n",
    "\n",
    "# just in case it somehow doesn't save\n",
    "backups = []\n",
    "\n",
    "with jsonlines.open(f\"./{name}.jsonl\", mode=\"w\") as writer:\n",
    "    for i, sample in enumerate(samples):\n",
    "        print(f'{round(i / len(samples) * 100, 2)}% complete')\n",
    "        print(f'Comment: {sample[\"comment\"]}')\n",
    "        label = id_to_label[int(input('Sentiment: '))]\n",
    "        writer.write({\"comment\": sample[\"comment\"], \"sentiment\": label})\n",
    "        backups.append((sample, label))\n",
    "        clear_output(wait=False)"
   ]
  },
  {
   "cell_type": "code",
   "execution_count": null,
   "id": "2bba4008",
   "metadata": {},
   "outputs": [],
   "source": []
  }
 ],
 "metadata": {
  "kernelspec": {
   "display_name": "Python 3 (ipykernel)",
   "language": "python",
   "name": "python3"
  },
  "language_info": {
   "codemirror_mode": {
    "name": "ipython",
    "version": 3
   },
   "file_extension": ".py",
   "mimetype": "text/x-python",
   "name": "python",
   "nbconvert_exporter": "python",
   "pygments_lexer": "ipython3",
   "version": "3.9.13"
  }
 },
 "nbformat": 4,
 "nbformat_minor": 5
}
