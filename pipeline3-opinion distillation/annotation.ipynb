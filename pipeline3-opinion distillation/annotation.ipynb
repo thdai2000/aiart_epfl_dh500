{
 "cells": [
  {
   "cell_type": "code",
   "execution_count": 5,
   "id": "initial_id",
   "metadata": {
    "ExecuteTime": {
     "end_time": "2024-06-03T11:09:49.978526900Z",
     "start_time": "2024-06-03T11:09:47.767165400Z"
    }
   },
   "outputs": [
    {
     "name": "stdout",
     "output_type": "stream",
     "text": [
      "0.0% complete\n",
      "Comment: Ai “”art”” programs properly providing a list of artists who’s art they used and/or financial compensation for the use of it\n"
     ]
    },
    {
     "ename": "ValueError",
     "evalue": "invalid literal for int() with base 10: ''",
     "output_type": "error",
     "traceback": [
      "\u001B[1;31m---------------------------------------------------------------------------\u001B[0m",
      "\u001B[1;31mValueError\u001B[0m                                Traceback (most recent call last)",
      "Cell \u001B[1;32mIn[5], line 23\u001B[0m\n\u001B[0;32m     21\u001B[0m \u001B[38;5;28mprint\u001B[39m(\u001B[38;5;124mf\u001B[39m\u001B[38;5;124m'\u001B[39m\u001B[38;5;132;01m{\u001B[39;00m\u001B[38;5;28mround\u001B[39m(i\u001B[38;5;250m \u001B[39m\u001B[38;5;241m/\u001B[39m\u001B[38;5;250m \u001B[39m\u001B[38;5;28mlen\u001B[39m(samples)\u001B[38;5;250m \u001B[39m\u001B[38;5;241m*\u001B[39m\u001B[38;5;250m \u001B[39m\u001B[38;5;241m100\u001B[39m,\u001B[38;5;250m \u001B[39m\u001B[38;5;241m2\u001B[39m)\u001B[38;5;132;01m}\u001B[39;00m\u001B[38;5;124m% complete\u001B[39m\u001B[38;5;124m'\u001B[39m)\n\u001B[0;32m     22\u001B[0m \u001B[38;5;28mprint\u001B[39m(\u001B[38;5;124mf\u001B[39m\u001B[38;5;124m'\u001B[39m\u001B[38;5;124mComment: \u001B[39m\u001B[38;5;132;01m{\u001B[39;00msample[\u001B[38;5;124m\"\u001B[39m\u001B[38;5;124mcomment\u001B[39m\u001B[38;5;124m\"\u001B[39m]\u001B[38;5;132;01m}\u001B[39;00m\u001B[38;5;124m'\u001B[39m)\n\u001B[1;32m---> 23\u001B[0m label \u001B[38;5;241m=\u001B[39m id_to_label[\u001B[38;5;28;43mint\u001B[39;49m\u001B[43m(\u001B[49m\u001B[38;5;28;43minput\u001B[39;49m\u001B[43m(\u001B[49m\u001B[38;5;124;43m'\u001B[39;49m\u001B[38;5;124;43mSentiment: \u001B[39;49m\u001B[38;5;124;43m'\u001B[39;49m\u001B[43m)\u001B[49m\u001B[43m)\u001B[49m]\n\u001B[0;32m     24\u001B[0m writer\u001B[38;5;241m.\u001B[39mwrite({\u001B[38;5;124m\"\u001B[39m\u001B[38;5;124mcomment\u001B[39m\u001B[38;5;124m\"\u001B[39m: sample[\u001B[38;5;124m\"\u001B[39m\u001B[38;5;124mcomment\u001B[39m\u001B[38;5;124m\"\u001B[39m], \u001B[38;5;124m\"\u001B[39m\u001B[38;5;124msentiment\u001B[39m\u001B[38;5;124m\"\u001B[39m: label})\n\u001B[0;32m     25\u001B[0m backups\u001B[38;5;241m.\u001B[39mappend((sample, label))\n",
      "\u001B[1;31mValueError\u001B[0m: invalid literal for int() with base 10: ''"
     ]
    }
   ],
   "source": [
    "from IPython.display import clear_output\n",
    "import jsonlines\n",
    "\n",
    "name = 'tianhao'\n",
    "\n",
    "# Read dataset\n",
    "with jsonlines.open(\"./to_annotate.jsonl\", \"r\") as reader:\n",
    "    samples = [sample for sample in reader.iter()]\n",
    "\n",
    "# Note that I swapped them because it seems more natural for inputting\n",
    "id_to_label = {\n",
    "    0: 'Pessimistic',\n",
    "    1: 'Optimistic'\n",
    "}\n",
    "\n",
    "# just in case it somehow doesn't save\n",
    "backups = []\n",
    "\n",
    "with jsonlines.open(f\"./{name}.jsonl\", mode=\"w\") as writer:\n",
    "    for i, sample in enumerate(samples):\n",
    "        print(f'{round(i / len(samples) * 100, 2)}% complete')\n",
    "        print(f'Comment: {sample[\"comment\"]}')\n",
    "        label = id_to_label[int(input('Sentiment: '))]\n",
    "        writer.write({\"comment\": sample[\"comment\"], \"sentiment\": label})\n",
    "        backups.append((sample, label))\n",
    "        clear_output(wait=False)"
   ]
  }
 ],
 "metadata": {
  "kernelspec": {
   "display_name": "Python 3 (ipykernel)",
   "language": "python",
   "name": "python3"
  },
  "language_info": {
   "codemirror_mode": {
    "name": "ipython",
    "version": 3
   },
   "file_extension": ".py",
   "mimetype": "text/x-python",
   "name": "python",
   "nbconvert_exporter": "python",
   "pygments_lexer": "ipython3",
   "version": "3.9.18"
  }
 },
 "nbformat": 4,
 "nbformat_minor": 5
}
